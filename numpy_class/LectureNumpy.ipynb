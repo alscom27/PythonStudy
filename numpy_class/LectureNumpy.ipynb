{
 "cells": [
  {
   "cell_type": "code",
   "execution_count": null,
   "metadata": {},
   "outputs": [],
   "source": []
  },
  {
   "cell_type": "code",
   "execution_count": 5,
   "metadata": {},
   "outputs": [
    {
     "data": {
      "text/plain": [
       "array([1, 2, 3, 4])"
      ]
     },
     "execution_count": 5,
     "metadata": {},
     "output_type": "execute_result"
    }
   ],
   "source": [
    "import numpy as np\n",
    "\n",
    "c = np.array([1,2,3,4])\n",
    "c.shape = (2,2)\n",
    "c.shape = (4,)\n",
    "c"
   ]
  },
  {
   "cell_type": "code",
   "execution_count": null,
   "metadata": {},
   "outputs": [
    {
     "data": {
      "text/plain": [
       "dtype('int32')"
      ]
     },
     "execution_count": 13,
     "metadata": {},
     "output_type": "execute_result"
    }
   ],
   "source": [
    "ar = np.array([True, False, True, False], dtype=np.int32)\n",
    "\n",
    "ar.dtype"
   ]
  },
  {
   "cell_type": "code",
   "execution_count": null,
   "metadata": {},
   "outputs": [
    {
     "data": {
      "text/plain": [
       "array([[15, 16, 17],\n",
       "       [18, 19, 20],\n",
       "       [21, 22, 23]])"
      ]
     },
     "execution_count": 14,
     "metadata": {},
     "output_type": "execute_result"
    }
   ],
   "source": [
    "# 1. 숫자 15에서 23까지 배열을 만들고 이를 3*3 행렬로 변환하여 출력하라\n",
    "array = np.arange(15, 24).reshape(3, 3)\n",
    "array"
   ]
  },
  {
   "cell_type": "code",
   "execution_count": 17,
   "metadata": {},
   "outputs": [
    {
     "data": {
      "text/plain": [
       "array([False, False, False, False])"
      ]
     },
     "execution_count": 17,
     "metadata": {},
     "output_type": "execute_result"
    }
   ],
   "source": [
    "#2. 다음의 두 array를 만들고 위의 두 array를 이용해서 아래와 같은 값이 나오게\n",
    "#   -[1,2,3,4]\n",
    "#   -[5,6,7,8]\n",
    "#목표 : [False,False,False,False]\n",
    "\n",
    "# 두 array 생성\n",
    "array1 = np.array([1, 2, 3, 4])\n",
    "array2 = np.array([5, 6, 7, 8])\n",
    "\n",
    "# 두 array를 비교하여 False 값 생성\n",
    "result = array1 == array2\n",
    "result\n"
   ]
  },
  {
   "cell_type": "code",
   "execution_count": 18,
   "metadata": {},
   "outputs": [
    {
     "name": "stdout",
     "output_type": "stream",
     "text": [
      "중간고사 평균: 53.333333333333336\n",
      "중간고사 표준편차: 35.19785346990479\n",
      "철수의 최종 점수: 58.400000000000006\n"
     ]
    }
   ],
   "source": [
    "# 3. 아래와 같이 3학생의 중간고사 점수, 기말고사 점수, 과제점수가 있다.\n",
    "# (철수, 영희, 민재)\n",
    "# 중간고사 = (15, 100, 45)\n",
    "# 기말고사 = (78, 25, 90)\n",
    "# 과제 = (81, 45, 99)\n",
    "\n",
    "# 각 중간, 기말, 과제점수의 가중치를 각각 0.4 0.4 0.2를 부여하여 가중치의 합을\n",
    "# 구하고, 거기에 기타점수 5점을 더하고자 한다.\n",
    "\n",
    "# 학생들의 점수\n",
    "중간고사 = np.array([15, 100, 45])\n",
    "기말고사 = np.array([78, 25, 90])\n",
    "과제 = np.array([81, 45, 99])\n",
    "\n",
    "# 가중치\n",
    "가중치 = np.array([0.4, 0.4, 0.2])\n",
    "\n",
    "# 1) 중간고사 평균과 표준편차 계산\n",
    "중간고사_평균 = np.mean(중간고사)\n",
    "중간고사_표준편차 = np.std(중간고사)\n",
    "\n",
    "print(f\"중간고사 평균: {중간고사_평균}\")\n",
    "print(f\"중간고사 표준편차: {중간고사_표준편차}\")\n",
    "\n",
    "# 2) 철수의 최종 점수 계산\n",
    "최종점수 = 중간고사 * 가중치[0] + 기말고사 * 가중치[1] + 과제 * 가중치[2] + 5\n",
    "철수_최종점수 = 최종점수[0]\n",
    "\n",
    "print(f\"철수의 최종 점수: {철수_최종점수}\")"
   ]
  }
 ],
 "metadata": {
  "kernelspec": {
   "display_name": "base",
   "language": "python",
   "name": "python3"
  },
  "language_info": {
   "codemirror_mode": {
    "name": "ipython",
    "version": 3
   },
   "file_extension": ".py",
   "mimetype": "text/x-python",
   "name": "python",
   "nbconvert_exporter": "python",
   "pygments_lexer": "ipython3",
   "version": "3.12.7"
  }
 },
 "nbformat": 4,
 "nbformat_minor": 2
}
