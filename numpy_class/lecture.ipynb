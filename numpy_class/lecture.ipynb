{
 "cells": [
  {
   "cell_type": "code",
   "execution_count": 110,
   "id": "c3006a4e",
   "metadata": {},
   "outputs": [
    {
     "data": {
      "text/plain": [
       "array([2, 4, 5])"
      ]
     },
     "execution_count": 110,
     "metadata": {},
     "output_type": "execute_result"
    }
   ],
   "source": [
    "import numpy as np\n",
    "\n",
    "a= [2,4,5]\n",
    "\n",
    "aa = np.array(a)\n",
    "aa"
   ]
  },
  {
   "cell_type": "code",
   "execution_count": 111,
   "id": "9e4a2ff6",
   "metadata": {},
   "outputs": [
    {
     "name": "stdout",
     "output_type": "stream",
     "text": [
      "[[ 0  1  2  3  4]\n",
      " [ 5  6  7  8  9]\n",
      " [10 11 12 13 14]]\n",
      "(3, 5)\n",
      "int32\n",
      "4\n",
      "15\n",
      "[5 7 8]\n",
      "['1' 'two' '3' '4']\n",
      "float64\n",
      "0\n"
     ]
    }
   ],
   "source": [
    "import numpy as np\n",
    "# jupyter 노트북 키는법 : 파일.ipynb 콘다 환경 설정 되어있어야하는듯?\n",
    "\n",
    "# for문 없이 2차원 배열을 만들기 때문에 더 빠름.\n",
    "a = np.arange(15).reshape(3,5)\n",
    "print(a)\n",
    "\n",
    "\n",
    "\n",
    "# ex.코드가 길어질때 어딨는지 찾기위해 이렇게 쓸 수도 있음\n",
    "print(a.shape) # 형태를 확인\n",
    "print(a.dtype.name) # 자료형을 확인\n",
    "print(a.itemsize)\n",
    "print(a.size) # 크기를 확인인\n",
    "\n",
    "# np.array를 선언할때 ()로 꼭 감싸줘야함\n",
    "b = np.array([5,7,8])\n",
    "print(b)\n",
    "\n",
    "c = np.array([1,'two',3,4])\n",
    "print(c)\n",
    "\n",
    "# 자료형?\n",
    "a = np.array([1.2, 3.5, 5.1])\n",
    "print(a.dtype)\n",
    "print(0)\n"
   ]
  },
  {
   "cell_type": "code",
   "execution_count": 112,
   "id": "d6a38b3b",
   "metadata": {},
   "outputs": [
    {
     "data": {
      "text/plain": [
       "array([ 0,  1,  2,  3,  4, 12, 12, 12,  8,  9])"
      ]
     },
     "execution_count": 112,
     "metadata": {},
     "output_type": "execute_result"
    }
   ],
   "source": [
    "import numpy as np\n",
    "\n",
    "arr = np.arange(10)\n",
    "arr[5:8] = 12\n",
    "arr"
   ]
  },
  {
   "cell_type": "code",
   "execution_count": 113,
   "id": "e09e60b8",
   "metadata": {},
   "outputs": [
    {
     "data": {
      "text/plain": [
       "array([ 0,  1,  2,  3,  4, 64, 64, 64,  8,  9])"
      ]
     },
     "execution_count": 113,
     "metadata": {},
     "output_type": "execute_result"
    }
   ],
   "source": [
    "import numpy as np\n",
    "\n",
    "arr_slice = arr[5:8]\n",
    "arr_slice\n",
    "\n",
    "arr_slice[1] = 12345\n",
    "arr_slice\n",
    "\n",
    "arr_slice[:] = 64\n",
    "arr_slice\n",
    "arr"
   ]
  },
  {
   "cell_type": "code",
   "execution_count": 114,
   "id": "2335023f",
   "metadata": {},
   "outputs": [
    {
     "data": {
      "text/plain": [
       "array([[1, 2],\n",
       "       [3, 4]])"
      ]
     },
     "execution_count": 114,
     "metadata": {},
     "output_type": "execute_result"
    }
   ],
   "source": [
    "# array 를 만드는 함수들\n",
    "a2 = np.zeros(3) # 1 차원 배열을 변수만큼의 0으로 생성\n",
    "a2 # array([0., 0., 0.])\n",
    "\n",
    "a3 = np.ones(3) # 1 차원 배열을 변수만큼의 1로 생성\n",
    "a3 # array([1., 1., 1.])\n",
    "\n",
    "k1 = np.eye(3) # x 행 x 열 단위행렬 생성\n",
    "k1 # array([[1., 0., 0.],\n",
    "   #       [0., 1., 0.],\n",
    "   #       [0., 0., 1.]])\n",
    "\n",
    "# 배열의 차원 형태 변경\n",
    "c = np.arange(1,5) \n",
    "c # array([1, 2, 3, 4]) / 1차원 배열임\n",
    "c.shape = (2,2) # c 배열의 형태를 2행 2열로 바꿈\n",
    "c # array([[1, 2],\n",
    "  #        [3, 4]])"
   ]
  },
  {
   "cell_type": "code",
   "execution_count": 115,
   "id": "652774d9",
   "metadata": {},
   "outputs": [
    {
     "data": {
      "text/plain": [
       "array([[3, 3],\n",
       "       [3, 3]])"
      ]
     },
     "execution_count": 115,
     "metadata": {},
     "output_type": "execute_result"
    }
   ],
   "source": [
    "c = np.array([1,2,3,4])\n",
    "c\n",
    "c.shape = (2,2)\n",
    "c\n",
    "\n",
    "c.shape=(4,)\n",
    "c\n",
    "\n",
    "# 2행 2열을 3으로 채움.\n",
    "c=np.full((2,2), 3)\n",
    "c"
   ]
  },
  {
   "cell_type": "code",
   "execution_count": 116,
   "id": "ba0fbd45",
   "metadata": {},
   "outputs": [
    {
     "data": {
      "text/plain": [
       "array([[1, 2, 3, 4],\n",
       "       [5, 6, 7, 8]])"
      ]
     },
     "execution_count": 116,
     "metadata": {},
     "output_type": "execute_result"
    }
   ],
   "source": [
    "na = np.array([1,2,3,4,5,6,7,8])\n",
    "na\n",
    "na.reshape(2,4) # 데이터 크기만 맞으면 행열을 바꿀 수 있음"
   ]
  },
  {
   "cell_type": "code",
   "execution_count": 117,
   "id": "e8421eaa",
   "metadata": {},
   "outputs": [
    {
     "data": {
      "text/plain": [
       "6"
      ]
     },
     "execution_count": 117,
     "metadata": {},
     "output_type": "execute_result"
    }
   ],
   "source": [
    "a = na.reshape(2,4)\n",
    "a[1,1]\n",
    "# 위 아래 같음\n",
    "a[1][1]"
   ]
  },
  {
   "cell_type": "code",
   "execution_count": 118,
   "id": "1203defd",
   "metadata": {},
   "outputs": [
    {
     "data": {
      "text/plain": [
       "array([[[  0,   1,   2,   3],\n",
       "        [  4,   5,   6,   7],\n",
       "        [  8,   9,  10,  11]],\n",
       "\n",
       "       [[  0,   1,   2,   3],\n",
       "        [  4,   5, 100,   7],\n",
       "        [  8,   9,  10,  11]]])"
      ]
     },
     "execution_count": 118,
     "metadata": {},
     "output_type": "execute_result"
    }
   ],
   "source": [
    "array = np.array([\n",
    "    [[0,1,2,3],[4,5,6,7],[8,9,10,11]],\n",
    "                 [[0,1,2,3],[4,5,100,7],[8,9,10,11]]\n",
    "                  ])\n",
    "array\n",
    "#               텐서가 2, 3행 4열\n",
    "# array.shape # (2,3,4)의 3차원 배열\n",
    "\n",
    "# array[1,1,2]"
   ]
  },
  {
   "cell_type": "code",
   "execution_count": 119,
   "id": "a0394a3d",
   "metadata": {},
   "outputs": [
    {
     "data": {
      "text/plain": [
       "array([[0.25015617, 0.70795085],\n",
       "       [0.79254166, 0.17267805]])"
      ]
     },
     "execution_count": 119,
     "metadata": {},
     "output_type": "execute_result"
    }
   ],
   "source": [
    "k = np.random.random((2,2))\n",
    "k"
   ]
  },
  {
   "cell_type": "code",
   "execution_count": 120,
   "id": "f3489cb2",
   "metadata": {},
   "outputs": [
    {
     "data": {
      "text/plain": [
       "array([[1.        , 1.41421356],\n",
       "       [1.73205081, 2.        ]])"
      ]
     },
     "execution_count": 120,
     "metadata": {},
     "output_type": "execute_result"
    }
   ],
   "source": [
    "x = np.array([[1,2], [3,4]], dtype=np.float64)\n",
    "y = np.array([[5,6],[7,8]], dtype=np.float64)\n",
    "\n",
    "x+y\n",
    "# 위 아래 같음.\n",
    "xy_sum = np.add(x,y)\n",
    "xy_sum\n",
    "\n",
    "x-y\n",
    "# 위 아래 같음.\n",
    "xy_sub = np.subtract(x,y)\n",
    "xy_sub\n",
    "\n",
    "x*y\n",
    "# 위 아래 같음.\n",
    "xy_mul = np.multiply(x,y)\n",
    "xy_mul\n",
    "\n",
    "x/y\n",
    "# 위 아래 같음.\n",
    "xy_div = np.divide(x,y)\n",
    "xy_div\n",
    "\n",
    "# 제곱근 배열\n",
    "x_sqrt = np.sqrt(x)\n",
    "x_sqrt\n",
    "\n",
    "# 배열의 연산은 shape도 맞춰야 한다"
   ]
  },
  {
   "cell_type": "code",
   "execution_count": 121,
   "id": "7be92277",
   "metadata": {},
   "outputs": [
    {
     "data": {
      "text/plain": [
       "array([[19, 22],\n",
       "       [43, 50]])"
      ]
     },
     "execution_count": 121,
     "metadata": {},
     "output_type": "execute_result"
    }
   ],
   "source": [
    "x = np.array([[1,2],[3,4]])\n",
    "y = np.array([[5,6],[7,8]])\n",
    "\n",
    "v = np.array([9,10])\n",
    "w = np.array([11,12])\n",
    "\n",
    "# 벡터의 내적 : 둘 다 결과 동일\n",
    "v.dot(w)\n",
    "vw_dot = np.dot(v,w)\n",
    "vw_dot\n",
    "\n",
    "# 행렬과 벡터의 곱 : 둘 다 결과는 rank1인 배열 동일\n",
    "x.dot(v)\n",
    "xv_dot = np.dot(x,v)\n",
    "xv_dot\n",
    "\n",
    "# 행렬곱 : 둘 다 결과는 rank2인 배열 동일\n",
    "x.dot(y)\n",
    "xy_dot = np.dot(x,y)\n",
    "xy_dot"
   ]
  },
  {
   "cell_type": "code",
   "execution_count": null,
   "id": "f092b6e5",
   "metadata": {},
   "outputs": [
    {
     "data": {
      "text/plain": [
       "[1, 2, 3, 3, 4, 5]"
      ]
     },
     "execution_count": 122,
     "metadata": {},
     "output_type": "execute_result"
    }
   ],
   "source": [
    "a = [1,2,3]\n",
    "b = [3,4,5]\n",
    "type(a)\n",
    "\n",
    "2*a\n",
    "\n",
    "a+b\n",
    "# 리스트라 배열 연산 헥갈림 주의\n",
    "# 리스트의 연산은 뒤에 붙음"
   ]
  },
  {
   "cell_type": "code",
   "execution_count": null,
   "id": "281b16ea",
   "metadata": {},
   "outputs": [
    {
     "data": {
      "text/plain": [
       "array([4, 6, 8])"
      ]
     },
     "execution_count": 127,
     "metadata": {},
     "output_type": "execute_result"
    }
   ],
   "source": [
    "import numpy as np\n",
    "\n",
    "a = np.array([1,2,3])\n",
    "b = np.array([3,4,5])\n",
    "type(a) # numpy.ndarray\n",
    "\n",
    "2*a\n",
    "a+b\n",
    "# 배열의 연산은 같은 행과열의 값들의 연산이 이뤄짐."
   ]
  },
  {
   "cell_type": "code",
   "execution_count": null,
   "id": "6d0b2b3f",
   "metadata": {},
   "outputs": [
    {
     "data": {
      "text/plain": [
       "array([1. , 1.6, 2.2, 2.8, 3.4, 4. ])"
      ]
     },
     "execution_count": 134,
     "metadata": {},
     "output_type": "execute_result"
    }
   ],
   "source": [
    "c = np.array([[1,2,3],[4,5,6]])\n",
    "c\n",
    "c.size # 6 배열의 크기는 원소의 갯수인듯...\n",
    "c.shape # 2행 3열 배열\n",
    "\n",
    "d = np.arange(10).reshape(2,5) # 1부터 9까지 2행 5열의 배열 생성\n",
    "d\n",
    "\n",
    "e = np.arange(2,3,0.1) # 2에서 3 미만까지 0.1step으로 만듬\n",
    "e\n",
    "\n",
    "f = np.linspace(1.0,4.0,6) # 1.0이상 4.0 이하 0.6의 등간격 6원소 배열 생성"
   ]
  },
  {
   "cell_type": "code",
   "execution_count": null,
   "id": "8ce474ce",
   "metadata": {},
   "outputs": [
    {
     "data": {
      "text/plain": [
       "array([[0.94384004, 0.01299282],\n",
       "       [0.89240601, 0.00775429]])"
      ]
     },
     "execution_count": 144,
     "metadata": {},
     "output_type": "execute_result"
    }
   ],
   "source": [
    "a = np.zeros((2,2), int) # 데이터 타입을 int로\n",
    "a\n",
    "b = np.zeros((2,2), float) # 데이터 타입을 실수로\n",
    "b\n",
    "\n",
    "c = np.ones((2,2)) # 2by2 float\n",
    "c\n",
    "\n",
    "d = np.full((2,2), 7) # 2by2 7\n",
    "d\n",
    "\n",
    "e = np.eye((2)) # 단위 행렬 대각선으로 1\n",
    "e\n",
    "\n",
    "f = np.random.random((2,2)) # 2by2 랜덤flat\n",
    "f"
   ]
  },
  {
   "cell_type": "code",
   "execution_count": null,
   "id": "ce8f50e5",
   "metadata": {},
   "outputs": [
    {
     "data": {
      "text/plain": [
       "array([ 1,  6, 11])"
      ]
     },
     "execution_count": 161,
     "metadata": {},
     "output_type": "execute_result"
    }
   ],
   "source": [
    "a = np.array([[1,2,3,4],[5,6,7,8],[9,10,11,12]])\n",
    "a\n",
    "\n",
    "a[0][0]\n",
    "a[0,0]\n",
    "a[1,2]\n",
    "\n",
    "a[-1,-1] += 10 # 마지막행에 10을 더함\n",
    "a[-1,-1] -= 10\n",
    "\n",
    "a[1,:] # 1행의 모든 열\n",
    "a[:,1] # 모든행의 1열\n",
    "a[:2,:] # 0부터2미만 행의 모든 열\n",
    "a[:,0:3:2] # 모든행의 0부터3미만의 열을 2의 간격으로\n",
    "a[:,-1:-4:-2] # 모든행의 -4미만(현재는 모든 열)을 2간격으로 역순\n",
    "a[:,[2,0,2,1]] # 모든행 3,0,2,1 열 순서로\n",
    "a[[0,1,2], [0,1,2]] # [0,0], [1,1], [2,2] 원소"
   ]
  },
  {
   "cell_type": "code",
   "execution_count": 199,
   "id": "9488a3a2",
   "metadata": {},
   "outputs": [
    {
     "data": {
      "text/plain": [
       "array([ 2,  4,  6,  8, 10, 12])"
      ]
     },
     "execution_count": 199,
     "metadata": {},
     "output_type": "execute_result"
    }
   ],
   "source": [
    "a\n",
    "\n",
    "a > 5 # 원소들이 조건에 따라 bool반환\n",
    "a[a>5] # a의 배열에서 조건에 맞는 원소들만 반환\n",
    "\n",
    "b = a[:] #a를 b에 shallow copy : 원본의 영향을 미침\n",
    "b\n",
    "\n",
    "b[b%2==0]"
   ]
  },
  {
   "cell_type": "code",
   "execution_count": null,
   "id": "3c907d2a",
   "metadata": {},
   "outputs": [
    {
     "data": {
      "text/plain": [
       "array([[ 67,  72,  77],\n",
       "       [ 92,  99, 106],\n",
       "       [117, 126, 135]])"
      ]
     },
     "execution_count": 176,
     "metadata": {},
     "output_type": "execute_result"
    }
   ],
   "source": [
    "c = np.array([[1,2,3],[4,5,6]])\n",
    "c\n",
    "d = np.arange(11,17).reshape(2,3)\n",
    "d\n",
    "\n",
    "c+d # 원소별 연산\n",
    "c-d\n",
    "c*d\n",
    "c/d\n",
    "c**2 # dtype=int32\n",
    "np.sqrt(c)\n",
    "np.dot(c,d.transpose()) # 행렬연산, 머신러닝할때 경사하강법에서 주로 다룰듯...\n",
    "# transpose() = .T =  전치 : 행과 열을 바꿈 , 행렬 곱 조건을 맞추기 위해 사용함\n",
    "np.dot(c.T, d) # 행렬연산\n",
    "# 경사하강법 : 어떤 값을 최소화하기 위해 기울기를 따라 조금씩 내려가는 과정"
   ]
  },
  {
   "cell_type": "code",
   "execution_count": null,
   "id": "b01867d9",
   "metadata": {},
   "outputs": [
    {
     "data": {
      "text/plain": [
       "4.022222222222223"
      ]
     },
     "execution_count": 184,
     "metadata": {},
     "output_type": "execute_result"
    }
   ],
   "source": [
    "list1 = [3, 5.6, 5,8,9,5]\n",
    "array = np.array(list1)\n",
    "array.var() # 분산 = 평균균\n",
    "\n",
    "array.mean()\n",
    "array.sum()\n",
    "array.max()\n",
    "array.min()\n",
    "array.std() # 표준편차"
   ]
  },
  {
   "cell_type": "code",
   "execution_count": null,
   "id": "e878f991",
   "metadata": {},
   "outputs": [
    {
     "data": {
      "text/plain": [
       "dtype('<U11')"
      ]
     },
     "execution_count": 188,
     "metadata": {},
     "output_type": "execute_result"
    }
   ],
   "source": [
    "ar = np.array([1,2,3])\n",
    "ar.dtype # int 32\n",
    "# 정수의 기본형 int 32비트\n",
    "# 실수의 기본형 float 64 실수 64비트\n",
    "\n",
    "ar1 = np.array(['12','2','3'])\n",
    "ar1.dtype # '<U2' 유니코드2\n",
    "\n",
    "ar2 = np.array([1.5,2.0,3.5])\n",
    "ar2.dtype # float 64\n",
    "\n",
    "ar3 = np.array([1,2.9,3,'4'])\n",
    "ar3.dtype # <U11 유니코드11"
   ]
  },
  {
   "cell_type": "code",
   "execution_count": null,
   "id": "6b3e7b1e",
   "metadata": {},
   "outputs": [
    {
     "data": {
      "text/plain": [
       "dtype('int32')"
      ]
     },
     "execution_count": 190,
     "metadata": {},
     "output_type": "execute_result"
    }
   ],
   "source": [
    "ar = np.array([False, True, False, False], dtype=np.int32) # 배열 dtype의 형변환\n",
    "ar # false = 0, true = 1\n",
    "ar.dtype"
   ]
  },
  {
   "cell_type": "code",
   "execution_count": null,
   "id": "2ddbefc9",
   "metadata": {},
   "outputs": [],
   "source": [
    "# numpy user guide 사이트에서 공부하는게 나음 시판되는 책들이 이걸 기반으로 만듬"
   ]
  },
  {
   "cell_type": "code",
   "execution_count": null,
   "id": "05fac3be",
   "metadata": {},
   "outputs": [
    {
     "name": "stdout",
     "output_type": "stream",
     "text": [
      "평균 : 83.39999999999999, 표준편차 : 12.275483697190916\n",
      "철수의 최종점수는 64.0\n"
     ]
    },
    {
     "data": {
      "text/plain": [
       "array([[ 6. , 40. , 18. ],\n",
       "       [ 6. , 40. , 18. ],\n",
       "       [31.2, 10. , 36. ],\n",
       "       [16.2,  9. , 19.8]])"
      ]
     },
     "execution_count": 231,
     "metadata": {},
     "output_type": "execute_result"
    }
   ],
   "source": [
    "# 1. 숫자 15에서 23까지 배열을 만들고 이를 3*3 행렬로 변환하여 출력\n",
    "ar1 = np.arange(15,24).reshape(3,3)\n",
    "ar1"
   ]
  },
  {
   "cell_type": "code",
   "execution_count": null,
   "id": "4ba96a65",
   "metadata": {},
   "outputs": [],
   "source": [
    "# 2. 다음의 두 array를 만들고 위의 두 array를 이용해서 아래와 같은 값이 나오게\n",
    "#  [1,2,3,4]\n",
    "#  [5,6,7,8]\n",
    "# 목표 : [f ,f , f, f]\n",
    "ar1 = np.array([1,2,3,4])\n",
    "ar2 = np.array([5,6,7,8])\n",
    "ar1 > ar2"
   ]
  },
  {
   "cell_type": "code",
   "execution_count": 242,
   "id": "5960ad77",
   "metadata": {},
   "outputs": [
    {
     "name": "stdout",
     "output_type": "stream",
     "text": [
      "평균 : 26.333333333333332,26.333333333333332, 30.733333333333334, 20.0, 표준편차 : 12.275483697190916\n",
      "철수의 최종점수는 79.0\n"
     ]
    }
   ],
   "source": [
    "# 3. 아래와 같이 3학생의 중간고사 점수 , 기말고사 점수, 과제점수가 있다.\n",
    "# (철수, 영희, 민재)\n",
    "# 중간고사 = (15, 100, 45)\n",
    "# 기말고사 = (78, 25, 90)\n",
    "# 과제 = (81, 45,99)\n",
    "# 각 중간, 기말, 과제점수의 가중치를 각각 0.4, 0.4, 0.2 를 부여하여 가중치의 합을 구하고, 거기에 기타점수 5점을 더하고자 한다.\n",
    "# 이를 array를 이용해 계산하는 프로그램을 작성하라\n",
    "# 요구사항 \n",
    "# 1. 중간고사 평균과 표준편차를 출력하라\n",
    "# 2. 철수의 최종점수는 얼마인지를 출력하라\n",
    "ar_p = np.array(['철수', '영희', '민재'])\n",
    "ar_s = np.array([[15, 100, 45],[15, 100, 45],[78,25,90],[81,45,99]], dtype=float)\n",
    "\n",
    "ar_s[:3,:] *= 0.4\n",
    "ar_s\n",
    "ar_s[3:, :] *= 0.2\n",
    "ar_s+=5\n",
    "ar_s.std()\n",
    "\n",
    "print(f'평균 : {ar_s[:1,0:].mean()},{ar_s[1:2,0:].mean()}, {ar_s[2:3,0:].mean()}, {ar_s[3:4,0:].mean()}, 표준편차 : {ar_s.std()}')\n",
    "print(f'{ar_p[0]}의 최종점수는 {ar_s[:1,0:].sum()}')\n",
    "# ar_s"
   ]
  },
  {
   "cell_type": "code",
   "execution_count": 246,
   "id": "7af76938",
   "metadata": {},
   "outputs": [
    {
     "data": {
      "text/plain": [
       "array([20, 22, 24, 26, 28, 30, 32, 34, 36, 38, 40, 42, 44, 46, 48, 50, 52,\n",
       "       54, 56, 58, 60])"
      ]
     },
     "execution_count": 246,
     "metadata": {},
     "output_type": "execute_result"
    }
   ],
   "source": [
    "# 1. 1차원 배열 생성 및 연산\n",
    "# 숫자 10 부터 30까지의 배열을 생성하고 ,배열 내 모든 값에 2를 곱한 결과를 출력\n",
    "ar = np.arange(10,31)\n",
    "ar*=2\n",
    "ar"
   ]
  },
  {
   "cell_type": "code",
   "execution_count": 248,
   "id": "6f32e59c",
   "metadata": {},
   "outputs": [
    {
     "data": {
      "text/plain": [
       "array([[ 0,  1,  2,  3],\n",
       "       [ 4,  5,  6,  7],\n",
       "       [ 8,  9, 10, 11],\n",
       "       [12, 13, 14, 15]])"
      ]
     },
     "execution_count": 248,
     "metadata": {},
     "output_type": "execute_result"
    }
   ],
   "source": [
    "# 2. 다차원 배열 생성 및 변환\n",
    "# 숫자 0부터 15까지 포함하는 1차원 배열을 생성\n",
    "# 이를 4*4 행렬로 변환\n",
    "ar1 = np.arange(0,16)\n",
    "ar1.shape = (4,4)\n",
    "ar1"
   ]
  },
  {
   "cell_type": "code",
   "execution_count": 249,
   "id": "a246acd2",
   "metadata": {},
   "outputs": [
    {
     "data": {
      "text/plain": [
       "array([ 2,  4,  6,  8, 10, 12, 14, 16, 18, 20])"
      ]
     },
     "execution_count": 249,
     "metadata": {},
     "output_type": "execute_result"
    }
   ],
   "source": [
    "# 3. 특정 조건에 맞는 값 필터링\n",
    "# 1부터 20까지의 배열에서 짝수만 추출하여 새 배열을 생성\n",
    "ar2 = np.arange(1,21)\n",
    "ar2[ar2%2==0]"
   ]
  },
  {
   "cell_type": "code",
   "execution_count": 290,
   "id": "05ef34cd",
   "metadata": {},
   "outputs": [
    {
     "name": "stdout",
     "output_type": "stream",
     "text": [
      "[[4 8 9]\n",
      " [8 7 4]\n",
      " [1 7 5]]\n",
      "7.0\n",
      "6.333333333333333\n",
      "4.333333333333333\n",
      "7.0\n",
      "6.333333333333333\n",
      "4.333333333333333\n"
     ]
    }
   ],
   "source": [
    "# 4. 배열 연산 및 집계 함수 활용\n",
    "# 임의의 3*3 배열을 생성\n",
    "# 각 행의 합계와 평균 출력\n",
    "ar3 = np.random.randint(1,10,(3,3))\n",
    "\n",
    "# axis = 1 행 axis=0열\n",
    "# row_sums = ar3.mean(axis=1)\n",
    "# print(row_sums)\n",
    "print(ar3)\n",
    "print(ar3[0].mean())\n",
    "print(ar3[1].mean())\n",
    "print(ar3[2].mean())\n",
    "for i in range(3):\n",
    "    print(ar3[i].mean())"
   ]
  },
  {
   "cell_type": "code",
   "execution_count": 269,
   "id": "9769ce2d",
   "metadata": {},
   "outputs": [
    {
     "data": {
      "text/plain": [
       "array([[2., 0., 0.],\n",
       "       [0., 2., 0.],\n",
       "       [0., 0., 2.]])"
      ]
     },
     "execution_count": 269,
     "metadata": {},
     "output_type": "execute_result"
    }
   ],
   "source": [
    "# 5. 행렬 곱셈 및 정규화\n",
    "# 3*3 단위 행렬을 생성\n",
    "# 다른 3*3 행렬을 만들어 행렬의 곱\n",
    "ar4 = np.eye(3)\n",
    "ar5 = np.full((3,3),2)\n",
    "ar4*ar5"
   ]
  }
 ],
 "metadata": {
  "kernelspec": {
   "display_name": "OneDayEnv",
   "language": "python",
   "name": "python3"
  },
  "language_info": {
   "codemirror_mode": {
    "name": "ipython",
    "version": 3
   },
   "file_extension": ".py",
   "mimetype": "text/x-python",
   "name": "python",
   "nbconvert_exporter": "python",
   "pygments_lexer": "ipython3",
   "version": "3.8.20"
  }
 },
 "nbformat": 4,
 "nbformat_minor": 5
}
