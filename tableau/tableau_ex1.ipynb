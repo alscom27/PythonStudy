{
 "cells": [
  {
   "cell_type": "markdown",
   "metadata": {},
   "source": [
    "### 데이터 시각화의 핵심개념\n",
    "\n",
    "### 구성성분\n",
    "\n",
    "### 데이터를 시각화 할 때 내가 의도하는 부분을 명확히 표현하는게 중요\n",
    "\n",
    "### 너무 복잡해 보이지 않게 가독성이 좋게"
   ]
  },
  {
   "cell_type": "markdown",
   "metadata": {},
   "source": []
  }
 ],
 "metadata": {
  "language_info": {
   "name": "python"
  }
 },
 "nbformat": 4,
 "nbformat_minor": 2
}
