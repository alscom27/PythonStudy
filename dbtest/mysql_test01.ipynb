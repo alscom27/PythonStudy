{
 "cells": [
  {
   "cell_type": "markdown",
   "id": "99c656cd",
   "metadata": {},
   "source": [
    "### mysql python 연동"
   ]
  },
  {
   "cell_type": "code",
   "execution_count": null,
   "id": "b49a008b",
   "metadata": {},
   "outputs": [],
   "source": [
    "import mysql.connector\n",
    "from datetime import datetime\n",
    "\n",
    "mydb = mysql.connector.connect(\n",
    "    host=\"localhost\", user=\"tester\", password=\"whdwls212@\", database=\"test\"\n",
    ")\n"
   ]
  },
  {
   "cell_type": "markdown",
   "id": "339d3539",
   "metadata": {},
   "source": [
    "### insert\n",
    "- values 는 %s로 집어넣어야함 숫자든 뭐든"
   ]
  },
  {
   "cell_type": "code",
   "execution_count": 7,
   "id": "97eefbc6",
   "metadata": {},
   "outputs": [
    {
     "name": "stdout",
     "output_type": "stream",
     "text": [
      "1 record inserted.\n"
     ]
    }
   ],
   "source": [
    "import mysql.connector\n",
    "from datetime import datetime\n",
    "\n",
    "mydb = mysql.connector.connect(\n",
    "    host=\"localhost\", user=\"tester\", password=\"whdwls212@\", database=\"test\"\n",
    ")\n",
    "\n",
    "mycursor = mydb.cursor()\n",
    "now = datetime.now()\n",
    "\n",
    "sql = \"INSERT INTO user (name, age, create_date_time, update_date_time) VALUES (%s, %s, %s, %s)\"\n",
    "val = (\"강감찬\", 35, now, now)\n",
    "mycursor.execute(sql, val)\n",
    "mydb.commit()\n",
    "print(mycursor.rowcount, \"record inserted.\")"
   ]
  },
  {
   "cell_type": "markdown",
   "id": "04a2a5af",
   "metadata": {},
   "source": [
    "### select\n",
    "- 커서에 옵션으로 dictionary=True를 주면 컬럼명과 데이터값이 dictionary형태로 나옴\n",
    "- fetchall() : 전부 다 가져옴. fetchone() : 하나만 가져옴."
   ]
  },
  {
   "cell_type": "code",
   "execution_count": 8,
   "id": "c67a6aa6",
   "metadata": {},
   "outputs": [
    {
     "name": "stdout",
     "output_type": "stream",
     "text": [
      "{'id': 2, 'name': '전우치', 'age': 26, 'create_date_time': datetime.datetime(2025, 4, 17, 10, 40, 47), 'update_date_time': datetime.datetime(2025, 4, 17, 10, 40, 47)}\n",
      "{'id': 3, 'name': '이순신', 'age': 65, 'create_date_time': datetime.datetime(2025, 4, 17, 10, 31, 45), 'update_date_time': datetime.datetime(2025, 4, 17, 10, 31, 45)}\n",
      "{'id': 5, 'name': '강감찬', 'age': 35, 'create_date_time': datetime.datetime(2025, 4, 17, 11, 25, 15), 'update_date_time': datetime.datetime(2025, 4, 17, 11, 25, 15)}\n",
      "{'id': 6, 'name': '을지문덕', 'age': 58, 'create_date_time': None, 'update_date_time': None}\n",
      "{'id': 7, 'name': '연개소문', 'age': 35, 'create_date_time': None, 'update_date_time': None}\n",
      "{'id': 8, 'name': '강감찬', 'age': 35, 'create_date_time': datetime.datetime(2025, 4, 17, 11, 54, 10), 'update_date_time': datetime.datetime(2025, 4, 17, 11, 54, 10)}\n",
      "전우치\n"
     ]
    }
   ],
   "source": [
    "mydb = mysql.connector.connect(\n",
    "    host=\"localhost\", user=\"tester\", password=\"whdwls212@\", database=\"test\"\n",
    ")\n",
    "\n",
    "mycursor = mydb.cursor(dictionary=True)\n",
    "sql = \"select * from user\"\n",
    "mycursor.execute(sql)\n",
    "\n",
    "myresult = mycursor.fetchall()\n",
    "\n",
    "for x in myresult:\n",
    "    print(x)\n",
    "\n",
    "print(myresult[0][\"name\"])"
   ]
  },
  {
   "cell_type": "markdown",
   "id": "002d6017",
   "metadata": {},
   "source": [
    "### 한 결과만 select\n",
    "- fetchall() : 전부 다 가져옴. 리스트로 감싸져 있어 번지수로 번저 찾아야함.\n",
    "- fetchone() : 하나만 가져옴. 리스트가 아닌 한 row만 가져옴"
   ]
  },
  {
   "cell_type": "code",
   "execution_count": 18,
   "id": "ee5d703a",
   "metadata": {},
   "outputs": [
    {
     "name": "stdout",
     "output_type": "stream",
     "text": [
      "강감찬 35\n"
     ]
    }
   ],
   "source": [
    "mydb = mysql.connector.connect(\n",
    "    host=\"localhost\", user=\"tester\", password=\"whdwls212@\", database=\"test\"\n",
    ")\n",
    "mycursor = mydb.cursor(dictionary=True)\n",
    "\n",
    "sql = \"select * from user where id = 5\"\n",
    "mycursor.execute(sql)\n",
    "\n",
    "myresult = mycursor.fetchone()\n",
    "\n",
    "print(myresult[\"name\"], myresult[\"age\"])"
   ]
  },
  {
   "cell_type": "code",
   "execution_count": 17,
   "id": "0b602e71",
   "metadata": {},
   "outputs": [
    {
     "name": "stdout",
     "output_type": "stream",
     "text": [
      "{'id': 5, 'name': '강감찬', 'age': 35, 'create_date_time': datetime.datetime(2025, 4, 17, 11, 25, 15), 'update_date_time': datetime.datetime(2025, 4, 17, 11, 25, 15)}\n",
      "{'id': 7, 'name': '연개소문', 'age': 35, 'create_date_time': None, 'update_date_time': None}\n",
      "{'id': 8, 'name': '강감찬', 'age': 35, 'create_date_time': datetime.datetime(2025, 4, 17, 11, 54, 10), 'update_date_time': datetime.datetime(2025, 4, 17, 11, 54, 10)}\n"
     ]
    }
   ],
   "source": [
    "\n",
    "\n",
    "mydb = mysql.connector.connect(\n",
    "    host=\"localhost\", user=\"tester\", password=\"whdwls212@\", database=\"test\"\n",
    ")\n",
    "mycursor = mydb.cursor(dictionary=True)\n",
    "\n",
    "sql = \"select * from user where age = %s\"\n",
    "val = (35,)\n",
    "\n",
    "mycursor.execute(sql, val)\n",
    "myresult = mycursor.fetchall()\n",
    "for x in myresult:\n",
    "    print(x)"
   ]
  },
  {
   "cell_type": "markdown",
   "id": "8b3cd005",
   "metadata": {},
   "source": [
    "### 정렬 orderby\n",
    "- 기본 = asc 오름차순\n",
    "- desc 내림자순"
   ]
  },
  {
   "cell_type": "code",
   "execution_count": 16,
   "id": "09a483d3",
   "metadata": {},
   "outputs": [
    {
     "name": "stdout",
     "output_type": "stream",
     "text": [
      "{'id': 2, 'name': '전우치', 'age': 26, 'create_date_time': datetime.datetime(2025, 4, 17, 10, 40, 47), 'update_date_time': datetime.datetime(2025, 4, 17, 10, 40, 47)}\n",
      "{'id': 3, 'name': '이순신', 'age': 65, 'create_date_time': datetime.datetime(2025, 4, 17, 10, 31, 45), 'update_date_time': datetime.datetime(2025, 4, 17, 10, 31, 45)}\n",
      "{'id': 6, 'name': '을지문덕', 'age': 58, 'create_date_time': None, 'update_date_time': None}\n",
      "{'id': 7, 'name': '연개소문', 'age': 35, 'create_date_time': None, 'update_date_time': None}\n",
      "{'id': 5, 'name': '강감찬', 'age': 35, 'create_date_time': datetime.datetime(2025, 4, 17, 11, 25, 15), 'update_date_time': datetime.datetime(2025, 4, 17, 11, 25, 15)}\n",
      "{'id': 8, 'name': '강감찬', 'age': 35, 'create_date_time': datetime.datetime(2025, 4, 17, 11, 54, 10), 'update_date_time': datetime.datetime(2025, 4, 17, 11, 54, 10)}\n"
     ]
    }
   ],
   "source": [
    "mydb = mysql.connector.connect(\n",
    "    host=\"localhost\", user=\"tester\", password=\"whdwls212@\", database=\"test\"\n",
    ")\n",
    "mycursor = mydb.cursor(dictionary=True)\n",
    "\n",
    "sql = \"select * from user order by name desc\"\n",
    "mycursor.execute(sql)\n",
    "myresult = mycursor.fetchall()\n",
    "for x in myresult:\n",
    "    print(x)\n"
   ]
  },
  {
   "cell_type": "markdown",
   "id": "76bef19c",
   "metadata": {},
   "source": [
    "### delete\n",
    "- val 값을 줄 때 튜플로 줘야하나봄?"
   ]
  },
  {
   "cell_type": "code",
   "execution_count": 15,
   "id": "2052692c",
   "metadata": {},
   "outputs": [],
   "source": [
    "mydb = mysql.connector.connect(\n",
    "    host=\"localhost\", user=\"tester\", password=\"whdwls212@\", database=\"test\"\n",
    ")\n",
    "mycursor = mydb.cursor(dictionary=True)\n",
    "\n",
    "sql = \"delete from user where name = %s\"\n",
    "val = (\"홍길동\",)\n",
    "mycursor.execute(sql, val)\n",
    "mydb.commit()\n",
    "\n",
    "\n",
    "mydb.close()\n"
   ]
  }
 ],
 "metadata": {
  "kernelspec": {
   "display_name": "base",
   "language": "python",
   "name": "python3"
  },
  "language_info": {
   "codemirror_mode": {
    "name": "ipython",
    "version": 3
   },
   "file_extension": ".py",
   "mimetype": "text/x-python",
   "name": "python",
   "nbconvert_exporter": "python",
   "pygments_lexer": "ipython3",
   "version": "3.12.7"
  }
 },
 "nbformat": 4,
 "nbformat_minor": 5
}
