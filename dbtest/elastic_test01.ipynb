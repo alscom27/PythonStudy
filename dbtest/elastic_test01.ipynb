{
  "cells": [
    {
      "cell_type": "markdown",
      "metadata": {},
      "source": [
        "# Elasticsearch Python 연동 테스트\n",
        "이 노트북은 Elasticsearch에 연결하여 문서를 생성, 조회, 검색, 수정하는 실습을 다룹니다."
      ]
    },
    {
      "cell_type": "code",
      "execution_count": null,
      "metadata": {},
      "outputs": [],
      "source": [
        "from elasticsearch import Elasticsearch\n",
        "\n",
        "# 첫 id 는 'elastic'이며 비밀번호는 처음 주어진 비밀번호(변경 가능함)\n",
        "ELASTIC_ID = \"elastic\"\n",
        "ELASTIC_PASSWORD = \"oABb9ggmAOW1ISl9IxSx\"\n",
        "\n",
        "# client instance 생성\n",
        "client = Elasticsearch(\n",
        "    \"https://localhost:9200\",\n",
        "    ca_certs=\"C:/Users/main/Desktop/es8/elasticsearch/config/certs/http_ca.crt\",\n",
        "    basic_auth=(ELASTIC_ID, ELASTIC_PASSWORD),\n",
        ")\n",
        "\n",
        "# Elasticsearch 연결 확인\n",
        "print(client.info())"
      ]
    },
    {
      "cell_type": "markdown",
      "metadata": {},
      "source": [
        "## 문서 생성"
      ]
    },
    {
      "cell_type": "code",
      "execution_count": null,
      "metadata": {},
      "outputs": [],
      "source": [
        "result = client.index(\n",
        "    index=\"my_index2\",\n",
        "    id=\"my_document_id\",\n",
        "    document={\"field1\": \"value1\", \"field2\": \"value2\"},\n",
        ")\n",
        "print(result)"
      ]
    },
    {
      "cell_type": "markdown",
      "metadata": {},
      "source": [
        "## 문서 조회"
      ]
    },
    {
      "cell_type": "code",
      "execution_count": null,
      "metadata": {},
      "outputs": [],
      "source": [
        "result = client.get(index=\"my_index2\", id=\"my_document_id\")\n",
        "print(result)"
      ]
    },
    {
      "cell_type": "markdown",
      "metadata": {},
      "source": [
        "## 문서 검색"
      ]
    },
    {
      "cell_type": "code",
      "execution_count": null,
      "metadata": {},
      "outputs": [],
      "source": [
        "result = client.search(index=\"my_index2\", query={\"match\": {\"field1\": \"value1\"}})\n",
        "print(result)"
      ]
    },
    {
      "cell_type": "markdown",
      "metadata": {},
      "source": [
        "## 문서 수정"
      ]
    },
    {
      "cell_type": "code",
      "execution_count": null,
      "metadata": {},
      "outputs": [],
      "source": [
        "result = client.update(\n",
        "    index=\"my_index2\",\n",
        "    id=\"my_document_id\",\n",
        "    doc={\"field1\": \"new value1\", \"new_field\": \"new value2\"},\n",
        ")\n",
        "print(result)\n",
        "\n",
        "# 수정된 문서 다시 조회\n",
        "result = client.get(index=\"my_index2\", id=\"my_document_id\")\n",
        "print(result)"
      ]
    },
    {
      "cell_type": "markdown",
      "metadata": {},
      "source": [
        "## 문서 삭제"
      ]
    },
    {
      "cell_type": "code",
      "execution_count": null,
      "metadata": {},
      "outputs": [],
      "source": [
        "result = client.delete(index=\"my_index2\", id=\"my_document_id\")\n",
        "print(result)"
      ]
    }
  ],
  "metadata": {
    "kernelspec": {
      "display_name": "base",
      "language": "python",
      "name": "python3"
    },
    "language_info": {
      "name": "python",
      "version": "3.12.7"
    }
  },
  "nbformat": 4,
  "nbformat_minor": 2
}
